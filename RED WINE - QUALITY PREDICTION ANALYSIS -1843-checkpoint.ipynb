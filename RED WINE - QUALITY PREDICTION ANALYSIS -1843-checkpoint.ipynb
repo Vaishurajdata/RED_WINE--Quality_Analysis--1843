{
 "cells": [
  {
   "cell_type": "markdown",
   "id": "1d75c727",
   "metadata": {},
   "source": [
    "# Q2. REDWINE-QUALITY PREDICTION Using Machine Learning Algos -"
   ]
  },
  {
   "cell_type": "code",
   "execution_count": 14,
   "id": "90d2c6d7",
   "metadata": {},
   "outputs": [],
   "source": [
    "import numpy as np\n",
    "import pandas as pd\n",
    "import matplotlib.pyplot as plt\n",
    "import seaborn as sns\n",
    "from sklearn.model_selection import train_test_split\n"
   ]
  },
  {
   "cell_type": "code",
   "execution_count": 15,
   "id": "74b402d3",
   "metadata": {},
   "outputs": [],
   "source": [
    "# loading the dataset to pandas dataframe\n",
    "wine_dataset = pd.read_csv(\"D:\\Data Trained - Excel links\\winequality-red.csv\")"
   ]
  },
  {
   "cell_type": "code",
   "execution_count": 16,
   "id": "c438393c",
   "metadata": {},
   "outputs": [
    {
     "data": {
      "text/plain": [
       "(1599, 12)"
      ]
     },
     "execution_count": 16,
     "metadata": {},
     "output_type": "execute_result"
    }
   ],
   "source": [
    "# getting number of rows and columns in the dataset\n",
    "wine_dataset.shape"
   ]
  },
  {
   "cell_type": "code",
   "execution_count": 17,
   "id": "0e51dd19",
   "metadata": {},
   "outputs": [
    {
     "data": {
      "text/html": [
       "<div>\n",
       "<style scoped>\n",
       "    .dataframe tbody tr th:only-of-type {\n",
       "        vertical-align: middle;\n",
       "    }\n",
       "\n",
       "    .dataframe tbody tr th {\n",
       "        vertical-align: top;\n",
       "    }\n",
       "\n",
       "    .dataframe thead th {\n",
       "        text-align: right;\n",
       "    }\n",
       "</style>\n",
       "<table border=\"1\" class=\"dataframe\">\n",
       "  <thead>\n",
       "    <tr style=\"text-align: right;\">\n",
       "      <th></th>\n",
       "      <th>fixed acidity</th>\n",
       "      <th>volatile acidity</th>\n",
       "      <th>citric acid</th>\n",
       "      <th>residual sugar</th>\n",
       "      <th>chlorides</th>\n",
       "      <th>free sulfur dioxide</th>\n",
       "      <th>total sulfur dioxide</th>\n",
       "      <th>density</th>\n",
       "      <th>pH</th>\n",
       "      <th>sulphates</th>\n",
       "      <th>alcohol</th>\n",
       "      <th>quality</th>\n",
       "    </tr>\n",
       "  </thead>\n",
       "  <tbody>\n",
       "    <tr>\n",
       "      <th>0</th>\n",
       "      <td>7.4</td>\n",
       "      <td>0.70</td>\n",
       "      <td>0.00</td>\n",
       "      <td>1.9</td>\n",
       "      <td>0.076</td>\n",
       "      <td>11.0</td>\n",
       "      <td>34.0</td>\n",
       "      <td>0.9978</td>\n",
       "      <td>3.51</td>\n",
       "      <td>0.56</td>\n",
       "      <td>9.4</td>\n",
       "      <td>5</td>\n",
       "    </tr>\n",
       "    <tr>\n",
       "      <th>1</th>\n",
       "      <td>7.8</td>\n",
       "      <td>0.88</td>\n",
       "      <td>0.00</td>\n",
       "      <td>2.6</td>\n",
       "      <td>0.098</td>\n",
       "      <td>25.0</td>\n",
       "      <td>67.0</td>\n",
       "      <td>0.9968</td>\n",
       "      <td>3.20</td>\n",
       "      <td>0.68</td>\n",
       "      <td>9.8</td>\n",
       "      <td>5</td>\n",
       "    </tr>\n",
       "    <tr>\n",
       "      <th>2</th>\n",
       "      <td>7.8</td>\n",
       "      <td>0.76</td>\n",
       "      <td>0.04</td>\n",
       "      <td>2.3</td>\n",
       "      <td>0.092</td>\n",
       "      <td>15.0</td>\n",
       "      <td>54.0</td>\n",
       "      <td>0.9970</td>\n",
       "      <td>3.26</td>\n",
       "      <td>0.65</td>\n",
       "      <td>9.8</td>\n",
       "      <td>5</td>\n",
       "    </tr>\n",
       "    <tr>\n",
       "      <th>3</th>\n",
       "      <td>11.2</td>\n",
       "      <td>0.28</td>\n",
       "      <td>0.56</td>\n",
       "      <td>1.9</td>\n",
       "      <td>0.075</td>\n",
       "      <td>17.0</td>\n",
       "      <td>60.0</td>\n",
       "      <td>0.9980</td>\n",
       "      <td>3.16</td>\n",
       "      <td>0.58</td>\n",
       "      <td>9.8</td>\n",
       "      <td>6</td>\n",
       "    </tr>\n",
       "    <tr>\n",
       "      <th>4</th>\n",
       "      <td>7.4</td>\n",
       "      <td>0.70</td>\n",
       "      <td>0.00</td>\n",
       "      <td>1.9</td>\n",
       "      <td>0.076</td>\n",
       "      <td>11.0</td>\n",
       "      <td>34.0</td>\n",
       "      <td>0.9978</td>\n",
       "      <td>3.51</td>\n",
       "      <td>0.56</td>\n",
       "      <td>9.4</td>\n",
       "      <td>5</td>\n",
       "    </tr>\n",
       "  </tbody>\n",
       "</table>\n",
       "</div>"
      ],
      "text/plain": [
       "   fixed acidity  volatile acidity  citric acid  residual sugar  chlorides  \\\n",
       "0            7.4              0.70         0.00             1.9      0.076   \n",
       "1            7.8              0.88         0.00             2.6      0.098   \n",
       "2            7.8              0.76         0.04             2.3      0.092   \n",
       "3           11.2              0.28         0.56             1.9      0.075   \n",
       "4            7.4              0.70         0.00             1.9      0.076   \n",
       "\n",
       "   free sulfur dioxide  total sulfur dioxide  density    pH  sulphates  \\\n",
       "0                 11.0                  34.0   0.9978  3.51       0.56   \n",
       "1                 25.0                  67.0   0.9968  3.20       0.68   \n",
       "2                 15.0                  54.0   0.9970  3.26       0.65   \n",
       "3                 17.0                  60.0   0.9980  3.16       0.58   \n",
       "4                 11.0                  34.0   0.9978  3.51       0.56   \n",
       "\n",
       "   alcohol  quality  \n",
       "0      9.4        5  \n",
       "1      9.8        5  \n",
       "2      9.8        5  \n",
       "3      9.8        6  \n",
       "4      9.4        5  "
      ]
     },
     "execution_count": 17,
     "metadata": {},
     "output_type": "execute_result"
    }
   ],
   "source": [
    "# finding first 5 rows of the dataset\n",
    "wine_dataset.head()"
   ]
  },
  {
   "cell_type": "code",
   "execution_count": 18,
   "id": "576e2b8f",
   "metadata": {},
   "outputs": [
    {
     "data": {
      "text/plain": [
       "fixed acidity           0\n",
       "volatile acidity        0\n",
       "citric acid             0\n",
       "residual sugar          0\n",
       "chlorides               0\n",
       "free sulfur dioxide     0\n",
       "total sulfur dioxide    0\n",
       "density                 0\n",
       "pH                      0\n",
       "sulphates               0\n",
       "alcohol                 0\n",
       "quality                 0\n",
       "dtype: int64"
      ]
     },
     "execution_count": 18,
     "metadata": {},
     "output_type": "execute_result"
    }
   ],
   "source": [
    "# checking for any missing values\n",
    "wine_dataset.isnull().sum()"
   ]
  },
  {
   "cell_type": "markdown",
   "id": "ee461aef",
   "metadata": {},
   "source": [
    "Data Analysis and Visualisation"
   ]
  },
  {
   "cell_type": "code",
   "execution_count": 19,
   "id": "765f694a",
   "metadata": {},
   "outputs": [
    {
     "data": {
      "text/html": [
       "<div>\n",
       "<style scoped>\n",
       "    .dataframe tbody tr th:only-of-type {\n",
       "        vertical-align: middle;\n",
       "    }\n",
       "\n",
       "    .dataframe tbody tr th {\n",
       "        vertical-align: top;\n",
       "    }\n",
       "\n",
       "    .dataframe thead th {\n",
       "        text-align: right;\n",
       "    }\n",
       "</style>\n",
       "<table border=\"1\" class=\"dataframe\">\n",
       "  <thead>\n",
       "    <tr style=\"text-align: right;\">\n",
       "      <th></th>\n",
       "      <th>fixed acidity</th>\n",
       "      <th>volatile acidity</th>\n",
       "      <th>citric acid</th>\n",
       "      <th>residual sugar</th>\n",
       "      <th>chlorides</th>\n",
       "      <th>free sulfur dioxide</th>\n",
       "      <th>total sulfur dioxide</th>\n",
       "      <th>density</th>\n",
       "      <th>pH</th>\n",
       "      <th>sulphates</th>\n",
       "      <th>alcohol</th>\n",
       "      <th>quality</th>\n",
       "    </tr>\n",
       "  </thead>\n",
       "  <tbody>\n",
       "    <tr>\n",
       "      <th>count</th>\n",
       "      <td>1599.000000</td>\n",
       "      <td>1599.000000</td>\n",
       "      <td>1599.000000</td>\n",
       "      <td>1599.000000</td>\n",
       "      <td>1599.000000</td>\n",
       "      <td>1599.000000</td>\n",
       "      <td>1599.000000</td>\n",
       "      <td>1599.000000</td>\n",
       "      <td>1599.000000</td>\n",
       "      <td>1599.000000</td>\n",
       "      <td>1599.000000</td>\n",
       "      <td>1599.000000</td>\n",
       "    </tr>\n",
       "    <tr>\n",
       "      <th>mean</th>\n",
       "      <td>8.319637</td>\n",
       "      <td>0.527821</td>\n",
       "      <td>0.270976</td>\n",
       "      <td>2.538806</td>\n",
       "      <td>0.087467</td>\n",
       "      <td>15.874922</td>\n",
       "      <td>46.467792</td>\n",
       "      <td>0.996747</td>\n",
       "      <td>3.311113</td>\n",
       "      <td>0.658149</td>\n",
       "      <td>10.422983</td>\n",
       "      <td>5.636023</td>\n",
       "    </tr>\n",
       "    <tr>\n",
       "      <th>std</th>\n",
       "      <td>1.741096</td>\n",
       "      <td>0.179060</td>\n",
       "      <td>0.194801</td>\n",
       "      <td>1.409928</td>\n",
       "      <td>0.047065</td>\n",
       "      <td>10.460157</td>\n",
       "      <td>32.895324</td>\n",
       "      <td>0.001887</td>\n",
       "      <td>0.154386</td>\n",
       "      <td>0.169507</td>\n",
       "      <td>1.065668</td>\n",
       "      <td>0.807569</td>\n",
       "    </tr>\n",
       "    <tr>\n",
       "      <th>min</th>\n",
       "      <td>4.600000</td>\n",
       "      <td>0.120000</td>\n",
       "      <td>0.000000</td>\n",
       "      <td>0.900000</td>\n",
       "      <td>0.012000</td>\n",
       "      <td>1.000000</td>\n",
       "      <td>6.000000</td>\n",
       "      <td>0.990070</td>\n",
       "      <td>2.740000</td>\n",
       "      <td>0.330000</td>\n",
       "      <td>8.400000</td>\n",
       "      <td>3.000000</td>\n",
       "    </tr>\n",
       "    <tr>\n",
       "      <th>25%</th>\n",
       "      <td>7.100000</td>\n",
       "      <td>0.390000</td>\n",
       "      <td>0.090000</td>\n",
       "      <td>1.900000</td>\n",
       "      <td>0.070000</td>\n",
       "      <td>7.000000</td>\n",
       "      <td>22.000000</td>\n",
       "      <td>0.995600</td>\n",
       "      <td>3.210000</td>\n",
       "      <td>0.550000</td>\n",
       "      <td>9.500000</td>\n",
       "      <td>5.000000</td>\n",
       "    </tr>\n",
       "    <tr>\n",
       "      <th>50%</th>\n",
       "      <td>7.900000</td>\n",
       "      <td>0.520000</td>\n",
       "      <td>0.260000</td>\n",
       "      <td>2.200000</td>\n",
       "      <td>0.079000</td>\n",
       "      <td>14.000000</td>\n",
       "      <td>38.000000</td>\n",
       "      <td>0.996750</td>\n",
       "      <td>3.310000</td>\n",
       "      <td>0.620000</td>\n",
       "      <td>10.200000</td>\n",
       "      <td>6.000000</td>\n",
       "    </tr>\n",
       "    <tr>\n",
       "      <th>75%</th>\n",
       "      <td>9.200000</td>\n",
       "      <td>0.640000</td>\n",
       "      <td>0.420000</td>\n",
       "      <td>2.600000</td>\n",
       "      <td>0.090000</td>\n",
       "      <td>21.000000</td>\n",
       "      <td>62.000000</td>\n",
       "      <td>0.997835</td>\n",
       "      <td>3.400000</td>\n",
       "      <td>0.730000</td>\n",
       "      <td>11.100000</td>\n",
       "      <td>6.000000</td>\n",
       "    </tr>\n",
       "    <tr>\n",
       "      <th>max</th>\n",
       "      <td>15.900000</td>\n",
       "      <td>1.580000</td>\n",
       "      <td>1.000000</td>\n",
       "      <td>15.500000</td>\n",
       "      <td>0.611000</td>\n",
       "      <td>72.000000</td>\n",
       "      <td>289.000000</td>\n",
       "      <td>1.003690</td>\n",
       "      <td>4.010000</td>\n",
       "      <td>2.000000</td>\n",
       "      <td>14.900000</td>\n",
       "      <td>8.000000</td>\n",
       "    </tr>\n",
       "  </tbody>\n",
       "</table>\n",
       "</div>"
      ],
      "text/plain": [
       "       fixed acidity  volatile acidity  citric acid  residual sugar  \\\n",
       "count    1599.000000       1599.000000  1599.000000     1599.000000   \n",
       "mean        8.319637          0.527821     0.270976        2.538806   \n",
       "std         1.741096          0.179060     0.194801        1.409928   \n",
       "min         4.600000          0.120000     0.000000        0.900000   \n",
       "25%         7.100000          0.390000     0.090000        1.900000   \n",
       "50%         7.900000          0.520000     0.260000        2.200000   \n",
       "75%         9.200000          0.640000     0.420000        2.600000   \n",
       "max        15.900000          1.580000     1.000000       15.500000   \n",
       "\n",
       "         chlorides  free sulfur dioxide  total sulfur dioxide      density  \\\n",
       "count  1599.000000          1599.000000           1599.000000  1599.000000   \n",
       "mean      0.087467            15.874922             46.467792     0.996747   \n",
       "std       0.047065            10.460157             32.895324     0.001887   \n",
       "min       0.012000             1.000000              6.000000     0.990070   \n",
       "25%       0.070000             7.000000             22.000000     0.995600   \n",
       "50%       0.079000            14.000000             38.000000     0.996750   \n",
       "75%       0.090000            21.000000             62.000000     0.997835   \n",
       "max       0.611000            72.000000            289.000000     1.003690   \n",
       "\n",
       "                pH    sulphates      alcohol      quality  \n",
       "count  1599.000000  1599.000000  1599.000000  1599.000000  \n",
       "mean      3.311113     0.658149    10.422983     5.636023  \n",
       "std       0.154386     0.169507     1.065668     0.807569  \n",
       "min       2.740000     0.330000     8.400000     3.000000  \n",
       "25%       3.210000     0.550000     9.500000     5.000000  \n",
       "50%       3.310000     0.620000    10.200000     6.000000  \n",
       "75%       3.400000     0.730000    11.100000     6.000000  \n",
       "max       4.010000     2.000000    14.900000     8.000000  "
      ]
     },
     "execution_count": 19,
     "metadata": {},
     "output_type": "execute_result"
    }
   ],
   "source": [
    "# checking Statistical measures of the datset\n",
    "wine_dataset.describe()"
   ]
  },
  {
   "cell_type": "code",
   "execution_count": 20,
   "id": "d33b23da",
   "metadata": {},
   "outputs": [
    {
     "data": {
      "text/plain": [
       "<seaborn.axisgrid.FacetGrid at 0x27575b30820>"
      ]
     },
     "execution_count": 20,
     "metadata": {},
     "output_type": "execute_result"
    },
    {
     "data": {
      "image/png": "[encoded data removed]",
      "text/plain": [
       "<Figure size 360x360 with 1 Axes>"
      ]
     },
     "metadata": {
      "needs_background": "light"
     },
     "output_type": "display_data"
    }
   ],
   "source": [
    "# findind the number of values for each quality\n",
    "sns.catplot(x='quality', data = wine_dataset , kind = 'count')"
   ]
  },
  {
   "cell_type": "code",
   "execution_count": 21,
   "id": "62902813",
   "metadata": {},
   "outputs": [
    {
     "data": {
      "text/plain": [
       "<AxesSubplot:xlabel='quality', ylabel='volatile acidity'>"
      ]
     },
     "execution_count": 21,
     "metadata": {},
     "output_type": "execute_result"
    },
    {
     "data": {
      "image/png": "[encoded data removed]",
      "text/plain": [
       "<Figure size 288x288 with 1 Axes>"
      ]
     },
     "metadata": {
      "needs_background": "light"
     },
     "output_type": "display_data"
    }
   ],
   "source": [
    "# finding volatile acidity vs quality\n",
    "plot = plt.figure(figsize=(4,4))\n",
    "sns.barplot(x='quality', y = 'volatile acidity', data = wine_dataset)"
   ]
  },
  {
   "cell_type": "code",
   "execution_count": 22,
   "id": "5566de78",
   "metadata": {},
   "outputs": [
    {
     "data": {
      "text/plain": [
       "<AxesSubplot:xlabel='quality', ylabel='citric acid'>"
      ]
     },
     "execution_count": 22,
     "metadata": {},
     "output_type": "execute_result"
    },
    {
     "data": {
      "image/png": "[encoded data removed]",
      "text/plain": [
       "<Figure size 288x288 with 1 Axes>"
      ]
     },
     "metadata": {
      "needs_background": "light"
     },
     "output_type": "display_data"
    }
   ],
   "source": [
    "# finding citric acid content  vs quality\n",
    "plot = plt.figure(figsize=(4,4))\n",
    "sns.barplot(x='quality', y = 'citric acid', data = wine_dataset)"
   ]
  },
  {
   "cell_type": "markdown",
   "id": "ea56cf1b",
   "metadata": {},
   "source": [
    "Finding the Correlation"
   ]
  },
  {
   "cell_type": "code",
   "execution_count": 23,
   "id": "0142d27e",
   "metadata": {},
   "outputs": [],
   "source": [
    "correlation = wine_dataset.corr()"
   ]
  },
  {
   "cell_type": "code",
   "execution_count": 25,
   "id": "1ad5fb9a",
   "metadata": {},
   "outputs": [
    {
     "data": {
      "text/plain": [
       "<AxesSubplot:>"
      ]
     },
     "execution_count": 25,
     "metadata": {},
     "output_type": "execute_result"
    },
    {
     "data": {
      "image/png": "[encoded data removed]",
      "text/plain": [
       "<Figure size 1440x648 with 2 Axes>"
      ]
     },
     "metadata": {
      "needs_background": "light"
     },
     "output_type": "display_data"
    }
   ],
   "source": [
    "# To construct a heatmap to get correlation between the columns\n",
    "plt.figure(figsize=(20,9))\n",
    "sns.heatmap(wine_dataset.describe(),annot=True,linewidths=0.1,linecolor=\"yellow\",fmt=\"0.2f\")"
   ]
  },
  {
   "cell_type": "code",
   "execution_count": 26,
   "id": "80774de4",
   "metadata": {},
   "outputs": [
    {
     "data": {
      "text/plain": [
       "volatile acidity       -0.390558\n",
       "total sulfur dioxide   -0.185100\n",
       "density                -0.174919\n",
       "chlorides              -0.128907\n",
       "pH                     -0.057731\n",
       "free sulfur dioxide    -0.050656\n",
       "residual sugar          0.013732\n",
       "fixed acidity           0.124052\n",
       "citric acid             0.226373\n",
       "sulphates               0.251397\n",
       "alcohol                 0.476166\n",
       "quality                 1.000000\n",
       "Name: quality, dtype: float64"
      ]
     },
     "execution_count": 26,
     "metadata": {},
     "output_type": "execute_result"
    }
   ],
   "source": [
    "wine_dataset.corr()['quality'].sort_values()"
   ]
  },
  {
   "cell_type": "code",
   "execution_count": 27,
   "id": "bed58f60",
   "metadata": {},
   "outputs": [
    {
     "data": {
      "text/plain": [
       "<AxesSubplot:>"
      ]
     },
     "execution_count": 27,
     "metadata": {},
     "output_type": "execute_result"
    },
    {
     "data": {
      "image/png": "[encoded data removed]",
      "text/plain": [
       "<Figure size 1440x648 with 2 Axes>"
      ]
     },
     "metadata": {
      "needs_background": "light"
     },
     "output_type": "display_data"
    }
   ],
   "source": [
    "# To find the Correlation\n",
    "plt.figure(figsize=(20,9))\n",
    "sns.heatmap(wine_dataset.corr(),annot=True,linewidths=0.1,linecolor=\"yellow\",fmt=\"0.2f\",)"
   ]
  },
  {
   "cell_type": "code",
   "execution_count": 28,
   "id": "a59775af",
   "metadata": {},
   "outputs": [
    {
     "data": {
      "image/png": "[encoded data removed]",
      "text/plain": [
       "<Figure size 1440x648 with 1 Axes>"
      ]
     },
     "metadata": {
      "needs_background": "light"
     },
     "output_type": "display_data"
    }
   ],
   "source": [
    "# Checking the columns for positive and negative correlated with  target columns\n",
    "plt.figure(figsize=(20,9))\n",
    "wine_dataset.corr()['quality'].sort_values(ascending=False).drop(['quality']).plot(kind='bar',color='c')\n",
    "plt.xlabel('Feature',fontsize=14)\n",
    "plt.ylabel('column with target names',fontsize=14)\n",
    "plt.title('correlation',fontsize=18)\n",
    "plt.show()"
   ]
  },
  {
   "cell_type": "code",
   "execution_count": 29,
   "id": "b2819e47",
   "metadata": {},
   "outputs": [
    {
     "data": {
      "text/plain": [
       "fixed acidity           0.982751\n",
       "volatile acidity        0.671593\n",
       "citric acid             0.318337\n",
       "residual sugar          4.540655\n",
       "chlorides               5.680347\n",
       "free sulfur dioxide     1.250567\n",
       "total sulfur dioxide    1.515531\n",
       "density                 0.071288\n",
       "pH                      0.193683\n",
       "sulphates               2.428672\n",
       "alcohol                 0.860829\n",
       "quality                 0.217802\n",
       "dtype: float64"
      ]
     },
     "execution_count": 29,
     "metadata": {},
     "output_type": "execute_result"
    }
   ],
   "source": [
    "wine_dataset.skew()"
   ]
  },
  {
   "cell_type": "code",
   "execution_count": 30,
   "id": "bc78f8f0",
   "metadata": {},
   "outputs": [
    {
     "data": {
      "text/plain": [
       "fixed acidity           float64\n",
       "volatile acidity        float64\n",
       "citric acid             float64\n",
       "residual sugar          float64\n",
       "chlorides               float64\n",
       "free sulfur dioxide     float64\n",
       "total sulfur dioxide    float64\n",
       "density                 float64\n",
       "pH                      float64\n",
       "sulphates               float64\n",
       "alcohol                 float64\n",
       "quality                   int64\n",
       "dtype: object"
      ]
     },
     "execution_count": 30,
     "metadata": {},
     "output_type": "execute_result"
    }
   ],
   "source": [
    "wine_dataset.dtypes"
   ]
  },
  {
   "cell_type": "code",
   "execution_count": 31,
   "id": "c1657f0a",
   "metadata": {},
   "outputs": [
    {
     "data": {
      "text/plain": [
       "<AxesSubplot:>"
      ]
     },
     "execution_count": 31,
     "metadata": {},
     "output_type": "execute_result"
    },
    {
     "data": {
      "image/png": "[encoded data removed]",
      "text/plain": [
       "<Figure size 432x288 with 1 Axes>"
      ]
     },
     "metadata": {
      "needs_background": "light"
     },
     "output_type": "display_data"
    }
   ],
   "source": [
    "wine_dataset['volatile acidity'].plot.box()"
   ]
  },
  {
   "cell_type": "code",
   "execution_count": 32,
   "id": "3ca7e222",
   "metadata": {},
   "outputs": [
    {
     "data": {
      "text/plain": [
       "<AxesSubplot:>"
      ]
     },
     "execution_count": 32,
     "metadata": {},
     "output_type": "execute_result"
    },
    {
     "data": {
      "image/png": "[encoded data removed]",
      "text/plain": [
       "<Figure size 432x288 with 1 Axes>"
      ]
     },
     "metadata": {
      "needs_background": "light"
     },
     "output_type": "display_data"
    }
   ],
   "source": [
    "wine_dataset['fixed acidity'].plot.box()"
   ]
  },
  {
   "cell_type": "code",
   "execution_count": 33,
   "id": "af08e95e",
   "metadata": {},
   "outputs": [
    {
     "data": {
      "text/plain": [
       "<AxesSubplot:>"
      ]
     },
     "execution_count": 33,
     "metadata": {},
     "output_type": "execute_result"
    },
    {
     "data": {
      "image/png": "[encoded data removed]",
      "text/plain": [
       "<Figure size 432x288 with 1 Axes>"
      ]
     },
     "metadata": {
      "needs_background": "light"
     },
     "output_type": "display_data"
    }
   ],
   "source": [
    "wine_dataset['sulphates'].plot.box()"
   ]
  },
  {
   "cell_type": "code",
   "execution_count": 34,
   "id": "0606ea90",
   "metadata": {},
   "outputs": [
    {
     "data": {
      "text/plain": [
       "<AxesSubplot:>"
      ]
     },
     "execution_count": 34,
     "metadata": {},
     "output_type": "execute_result"
    },
    {
     "data": {
      "image/png": "[encoded data removed]",
      "text/plain": [
       "<Figure size 432x288 with 1 Axes>"
      ]
     },
     "metadata": {
      "needs_background": "light"
     },
     "output_type": "display_data"
    }
   ],
   "source": [
    "wine_dataset['quality'].plot.box()"
   ]
  },
  {
   "cell_type": "code",
   "execution_count": 36,
   "id": "3916bda5",
   "metadata": {},
   "outputs": [
    {
     "data": {
      "text/plain": [
       "array([ 7.4,  7.8, 11.2,  7.9,  7.3,  7.5,  6.7,  5.6,  8.9,  8.5,  8.1,\n",
       "        7.6,  6.9,  6.3,  7.1,  8.3,  5.2,  5.7,  8.8,  6.8,  4.6,  7.7,\n",
       "        8.7,  6.4,  6.6,  8.6, 10.2,  7. ,  7.2,  9.3,  8. ,  9.7,  6.2,\n",
       "        5. ,  4.7,  8.4, 10.1,  9.4,  9. ,  8.2,  6.1,  5.8,  9.2, 11.5,\n",
       "        5.4,  9.6, 12.8, 11. , 11.6, 12. , 15. , 10.8, 11.1, 10. , 12.5,\n",
       "       11.8, 10.9, 10.3, 11.4,  9.9, 10.4, 13.3, 10.6,  9.8, 13.4, 10.7,\n",
       "       11.9, 12.4, 12.2, 13.8,  9.1, 13.5, 10.5, 12.6, 14. , 13.7,  9.5,\n",
       "       12.7, 12.3, 15.6,  5.3, 11.3, 13. ,  6.5, 12.9, 14.3, 15.5, 11.7,\n",
       "       13.2, 15.9, 12.1,  5.1,  4.9,  5.9,  6. ,  5.5])"
      ]
     },
     "execution_count": 36,
     "metadata": {},
     "output_type": "execute_result"
    }
   ],
   "source": [
    "wine_dataset['fixed acidity'].unique()"
   ]
  },
  {
   "cell_type": "code",
   "execution_count": 37,
   "id": "eacdde59",
   "metadata": {},
   "outputs": [
    {
     "data": {
      "text/plain": [
       "(1599, 12)"
      ]
     },
     "execution_count": 37,
     "metadata": {},
     "output_type": "execute_result"
    }
   ],
   "source": [
    "# finding outlier removal\n",
    "wine_dataset.shape"
   ]
  },
  {
   "cell_type": "code",
   "execution_count": 39,
   "id": "f2bca088",
   "metadata": {},
   "outputs": [
    {
     "data": {
      "text/plain": [
       "(array([  13,   14,   15,   15,   17,   17,   19,   33,   38,   42,   43,\n",
       "          45,   57,   81,   81,   83,   86,   88,   91,   92,   95,  106,\n",
       "         106,  109,  120,  126,  127,  142,  144,  147,  151,  151,  151,\n",
       "         151,  163,  164,  169,  169,  181,  199,  226,  226,  240,  243,\n",
       "         244,  258,  258,  274,  281,  291,  324,  325,  339,  340,  347,\n",
       "         354,  374,  381,  391,  396,  396,  400,  400,  442,  442,  451,\n",
       "         459,  467,  480,  480,  494,  515,  517,  544,  554,  554,  555,\n",
       "         555,  557,  557,  568,  584,  588,  591,  595,  608,  614,  636,\n",
       "         639,  649,  649,  651,  652,  652,  652,  672,  672,  684,  690,\n",
       "         690,  692,  692,  695,  723,  724,  730,  754,  776,  777,  795,\n",
       "         821,  832,  836,  837,  889,  899,  911,  917,  923,  925,  926,\n",
       "         982, 1017, 1018, 1043, 1051, 1051, 1071, 1074, 1079, 1079, 1081,\n",
       "        1081, 1111, 1114, 1131, 1154, 1165, 1175, 1186, 1231, 1235, 1244,\n",
       "        1244, 1244, 1260, 1269, 1269, 1270, 1270, 1288, 1289, 1295, 1296,\n",
       "        1299, 1299, 1300, 1312, 1316, 1319, 1319, 1321, 1358, 1367, 1370,\n",
       "        1370, 1372, 1372, 1374, 1374, 1434, 1434, 1434, 1435, 1435, 1435,\n",
       "        1469, 1474, 1474, 1474, 1476, 1476, 1476, 1478, 1493, 1496, 1505,\n",
       "        1558, 1558, 1570, 1574, 1589], dtype=int64),\n",
       " array([ 9,  5,  5,  6,  4,  9,  4,  3,  1,  4,  9,  8,  5,  4,  9,  4,  9,\n",
       "         9,  9,  9,  8,  4,  9,  6,  1,  1,  1, 10, 10,  4,  2,  4,  8,  9,\n",
       "         3,  3,  4,  9,  4,  1,  4,  9,  4,  0,  0,  4,  9,  3,  4,  4,  3,\n",
       "         3,  9,  9,  0,  6,  0,  0,  0,  3,  5,  3,  5,  0,  7,  4, 11, 10,\n",
       "         3,  7,  3,  6, 11,  0,  0,  7,  0,  7,  0,  7,  4,  5, 10,  6,  3,\n",
       "         7,  9,  6,  9,  3,  6,  6,  0,  3, 10,  1,  6,  6,  1, 11,  4,  9,\n",
       "         8,  9,  1,  4,  4,  4,  4,  9, 10, 11,  7,  7,  7, 11,  3,  3,  3,\n",
       "         5,  5,  5,  7,  7,  3,  4,  9,  3,  3,  3,  6,  3,  6,  8,  7,  5,\n",
       "         5,  4,  5,  3,  5,  3,  3,  5,  6,  4,  7, 10,  7, 10,  9,  9,  5,\n",
       "         5,  1, 11,  8,  1,  8,  4,  9,  8,  5,  9,  4,  9,  4,  9,  4, 11,\n",
       "         3,  5,  7,  3,  5,  7, 11,  3,  5,  7,  3,  5,  7, 11,  6,  6, 11,\n",
       "         4,  5,  4,  3,  3], dtype=int64))"
      ]
     },
     "execution_count": 39,
     "metadata": {},
     "output_type": "execute_result"
    }
   ],
   "source": [
    "from scipy.stats import zscore\n",
    "import numpy as np \n",
    "z=np.abs(zscore(wine_dataset))\n",
    "threshold=3\n",
    "np.where(z>3)"
   ]
  },
  {
   "cell_type": "code",
   "execution_count": 40,
   "id": "56dd8fb7",
   "metadata": {},
   "outputs": [
    {
     "data": {
      "text/html": [
       "<div>\n",
       "<style scoped>\n",
       "    .dataframe tbody tr th:only-of-type {\n",
       "        vertical-align: middle;\n",
       "    }\n",
       "\n",
       "    .dataframe tbody tr th {\n",
       "        vertical-align: top;\n",
       "    }\n",
       "\n",
       "    .dataframe thead th {\n",
       "        text-align: right;\n",
       "    }\n",
       "</style>\n",
       "<table border=\"1\" class=\"dataframe\">\n",
       "  <thead>\n",
       "    <tr style=\"text-align: right;\">\n",
       "      <th></th>\n",
       "      <th>fixed acidity</th>\n",
       "      <th>volatile acidity</th>\n",
       "      <th>citric acid</th>\n",
       "      <th>residual sugar</th>\n",
       "      <th>chlorides</th>\n",
       "      <th>free sulfur dioxide</th>\n",
       "      <th>total sulfur dioxide</th>\n",
       "      <th>density</th>\n",
       "      <th>pH</th>\n",
       "      <th>sulphates</th>\n",
       "      <th>alcohol</th>\n",
       "      <th>quality</th>\n",
       "    </tr>\n",
       "  </thead>\n",
       "  <tbody>\n",
       "    <tr>\n",
       "      <th>0</th>\n",
       "      <td>7.4</td>\n",
       "      <td>0.700</td>\n",
       "      <td>0.00</td>\n",
       "      <td>1.9</td>\n",
       "      <td>0.076</td>\n",
       "      <td>11.0</td>\n",
       "      <td>34.0</td>\n",
       "      <td>0.99780</td>\n",
       "      <td>3.51</td>\n",
       "      <td>0.56</td>\n",
       "      <td>9.4</td>\n",
       "      <td>5</td>\n",
       "    </tr>\n",
       "    <tr>\n",
       "      <th>1</th>\n",
       "      <td>7.8</td>\n",
       "      <td>0.880</td>\n",
       "      <td>0.00</td>\n",
       "      <td>2.6</td>\n",
       "      <td>0.098</td>\n",
       "      <td>25.0</td>\n",
       "      <td>67.0</td>\n",
       "      <td>0.99680</td>\n",
       "      <td>3.20</td>\n",
       "      <td>0.68</td>\n",
       "      <td>9.8</td>\n",
       "      <td>5</td>\n",
       "    </tr>\n",
       "    <tr>\n",
       "      <th>2</th>\n",
       "      <td>7.8</td>\n",
       "      <td>0.760</td>\n",
       "      <td>0.04</td>\n",
       "      <td>2.3</td>\n",
       "      <td>0.092</td>\n",
       "      <td>15.0</td>\n",
       "      <td>54.0</td>\n",
       "      <td>0.99700</td>\n",
       "      <td>3.26</td>\n",
       "      <td>0.65</td>\n",
       "      <td>9.8</td>\n",
       "      <td>5</td>\n",
       "    </tr>\n",
       "    <tr>\n",
       "      <th>3</th>\n",
       "      <td>11.2</td>\n",
       "      <td>0.280</td>\n",
       "      <td>0.56</td>\n",
       "      <td>1.9</td>\n",
       "      <td>0.075</td>\n",
       "      <td>17.0</td>\n",
       "      <td>60.0</td>\n",
       "      <td>0.99800</td>\n",
       "      <td>3.16</td>\n",
       "      <td>0.58</td>\n",
       "      <td>9.8</td>\n",
       "      <td>6</td>\n",
       "    </tr>\n",
       "    <tr>\n",
       "      <th>4</th>\n",
       "      <td>7.4</td>\n",
       "      <td>0.700</td>\n",
       "      <td>0.00</td>\n",
       "      <td>1.9</td>\n",
       "      <td>0.076</td>\n",
       "      <td>11.0</td>\n",
       "      <td>34.0</td>\n",
       "      <td>0.99780</td>\n",
       "      <td>3.51</td>\n",
       "      <td>0.56</td>\n",
       "      <td>9.4</td>\n",
       "      <td>5</td>\n",
       "    </tr>\n",
       "    <tr>\n",
       "      <th>...</th>\n",
       "      <td>...</td>\n",
       "      <td>...</td>\n",
       "      <td>...</td>\n",
       "      <td>...</td>\n",
       "      <td>...</td>\n",
       "      <td>...</td>\n",
       "      <td>...</td>\n",
       "      <td>...</td>\n",
       "      <td>...</td>\n",
       "      <td>...</td>\n",
       "      <td>...</td>\n",
       "      <td>...</td>\n",
       "    </tr>\n",
       "    <tr>\n",
       "      <th>1594</th>\n",
       "      <td>6.2</td>\n",
       "      <td>0.600</td>\n",
       "      <td>0.08</td>\n",
       "      <td>2.0</td>\n",
       "      <td>0.090</td>\n",
       "      <td>32.0</td>\n",
       "      <td>44.0</td>\n",
       "      <td>0.99490</td>\n",
       "      <td>3.45</td>\n",
       "      <td>0.58</td>\n",
       "      <td>10.5</td>\n",
       "      <td>5</td>\n",
       "    </tr>\n",
       "    <tr>\n",
       "      <th>1595</th>\n",
       "      <td>5.9</td>\n",
       "      <td>0.550</td>\n",
       "      <td>0.10</td>\n",
       "      <td>2.2</td>\n",
       "      <td>0.062</td>\n",
       "      <td>39.0</td>\n",
       "      <td>51.0</td>\n",
       "      <td>0.99512</td>\n",
       "      <td>3.52</td>\n",
       "      <td>0.76</td>\n",
       "      <td>11.2</td>\n",
       "      <td>6</td>\n",
       "    </tr>\n",
       "    <tr>\n",
       "      <th>1596</th>\n",
       "      <td>6.3</td>\n",
       "      <td>0.510</td>\n",
       "      <td>0.13</td>\n",
       "      <td>2.3</td>\n",
       "      <td>0.076</td>\n",
       "      <td>29.0</td>\n",
       "      <td>40.0</td>\n",
       "      <td>0.99574</td>\n",
       "      <td>3.42</td>\n",
       "      <td>0.75</td>\n",
       "      <td>11.0</td>\n",
       "      <td>6</td>\n",
       "    </tr>\n",
       "    <tr>\n",
       "      <th>1597</th>\n",
       "      <td>5.9</td>\n",
       "      <td>0.645</td>\n",
       "      <td>0.12</td>\n",
       "      <td>2.0</td>\n",
       "      <td>0.075</td>\n",
       "      <td>32.0</td>\n",
       "      <td>44.0</td>\n",
       "      <td>0.99547</td>\n",
       "      <td>3.57</td>\n",
       "      <td>0.71</td>\n",
       "      <td>10.2</td>\n",
       "      <td>5</td>\n",
       "    </tr>\n",
       "    <tr>\n",
       "      <th>1598</th>\n",
       "      <td>6.0</td>\n",
       "      <td>0.310</td>\n",
       "      <td>0.47</td>\n",
       "      <td>3.6</td>\n",
       "      <td>0.067</td>\n",
       "      <td>18.0</td>\n",
       "      <td>42.0</td>\n",
       "      <td>0.99549</td>\n",
       "      <td>3.39</td>\n",
       "      <td>0.66</td>\n",
       "      <td>11.0</td>\n",
       "      <td>6</td>\n",
       "    </tr>\n",
       "  </tbody>\n",
       "</table>\n",
       "<p>1451 rows × 12 columns</p>\n",
       "</div>"
      ],
      "text/plain": [
       "      fixed acidity  volatile acidity  citric acid  residual sugar  chlorides  \\\n",
       "0               7.4             0.700         0.00             1.9      0.076   \n",
       "1               7.8             0.880         0.00             2.6      0.098   \n",
       "2               7.8             0.760         0.04             2.3      0.092   \n",
       "3              11.2             0.280         0.56             1.9      0.075   \n",
       "4               7.4             0.700         0.00             1.9      0.076   \n",
       "...             ...               ...          ...             ...        ...   \n",
       "1594            6.2             0.600         0.08             2.0      0.090   \n",
       "1595            5.9             0.550         0.10             2.2      0.062   \n",
       "1596            6.3             0.510         0.13             2.3      0.076   \n",
       "1597            5.9             0.645         0.12             2.0      0.075   \n",
       "1598            6.0             0.310         0.47             3.6      0.067   \n",
       "\n",
       "      free sulfur dioxide  total sulfur dioxide  density    pH  sulphates  \\\n",
       "0                    11.0                  34.0  0.99780  3.51       0.56   \n",
       "1                    25.0                  67.0  0.99680  3.20       0.68   \n",
       "2                    15.0                  54.0  0.99700  3.26       0.65   \n",
       "3                    17.0                  60.0  0.99800  3.16       0.58   \n",
       "4                    11.0                  34.0  0.99780  3.51       0.56   \n",
       "...                   ...                   ...      ...   ...        ...   \n",
       "1594                 32.0                  44.0  0.99490  3.45       0.58   \n",
       "1595                 39.0                  51.0  0.99512  3.52       0.76   \n",
       "1596                 29.0                  40.0  0.99574  3.42       0.75   \n",
       "1597                 32.0                  44.0  0.99547  3.57       0.71   \n",
       "1598                 18.0                  42.0  0.99549  3.39       0.66   \n",
       "\n",
       "      alcohol  quality  \n",
       "0         9.4        5  \n",
       "1         9.8        5  \n",
       "2         9.8        5  \n",
       "3         9.8        6  \n",
       "4         9.4        5  \n",
       "...       ...      ...  \n",
       "1594     10.5        5  \n",
       "1595     11.2        6  \n",
       "1596     11.0        6  \n",
       "1597     10.2        5  \n",
       "1598     11.0        6  \n",
       "\n",
       "[1451 rows x 12 columns]"
      ]
     },
     "execution_count": 40,
     "metadata": {},
     "output_type": "execute_result"
    }
   ],
   "source": [
    "wine_dataset_new_z=wine_dataset[(z<3).all(axis=1)]\n",
    "wine_dataset_new_z"
   ]
  },
  {
   "cell_type": "code",
   "execution_count": 41,
   "id": "765b02a6",
   "metadata": {},
   "outputs": [
    {
     "data": {
      "text/plain": [
       "(1451, 12)"
      ]
     },
     "execution_count": 41,
     "metadata": {},
     "output_type": "execute_result"
    }
   ],
   "source": [
    "wine_dataset_new_z.shape"
   ]
  },
  {
   "cell_type": "code",
   "execution_count": 42,
   "id": "b7900aa7",
   "metadata": {},
   "outputs": [],
   "source": [
    "# findinf percentage loss of data\n",
    "data_loss=(1599-1451/1599)*100"
   ]
  },
  {
   "cell_type": "code",
   "execution_count": 43,
   "id": "9f710766",
   "metadata": {},
   "outputs": [
    {
     "data": {
      "text/plain": [
       "159809.25578486553"
      ]
     },
     "execution_count": 43,
     "metadata": {},
     "output_type": "execute_result"
    }
   ],
   "source": [
    "data_loss"
   ]
  },
  {
   "cell_type": "code",
   "execution_count": 45,
   "id": "133655b0",
   "metadata": {},
   "outputs": [],
   "source": [
    "features=wine_dataset.drop(\"quality\",axis=1)\n",
    "target=wine_dataset[\"quality\"]"
   ]
  },
  {
   "cell_type": "code",
   "execution_count": 46,
   "id": "afac3095",
   "metadata": {},
   "outputs": [],
   "source": [
    "# To scale using Min-max scaler\n",
    "from sklearn.preprocessing import MinMaxScaler\n",
    "mms=MinMaxScaler()\n",
    "from sklearn.linear_model import LinearRegression\n",
    "lr=LinearRegression()\n",
    "from sklearn.metrics import r2_score\n",
    "from sklearn.model_selection import train_test_split"
   ]
  },
  {
   "cell_type": "code",
   "execution_count": 47,
   "id": "1ce7f8e8",
   "metadata": {},
   "outputs": [],
   "source": [
    "import warnings\n",
    "warnings.filterwarnings('ignore')"
   ]
  },
  {
   "cell_type": "code",
   "execution_count": 58,
   "id": "882d4c78",
   "metadata": {},
   "outputs": [
    {
     "name": "stdout",
     "output_type": "stream",
     "text": [
      "At random state 0,the training accuracy is:- 0.36545196162068627\n",
      "At random state 0,the testing accuracy is:- 0.3283887639580212\n",
      "\n",
      "\n",
      "At random state 1,the training accuracy is:- 0.3655849921479042\n",
      "At random state 1,the testing accuracy is:- 0.326640272698681\n",
      "\n",
      "\n",
      "At random state 2,the training accuracy is:- 0.37079770098666653\n",
      "At random state 2,the testing accuracy is:- 0.30243886973915446\n",
      "\n",
      "\n",
      "At random state 3,the training accuracy is:- 0.3530297271672961\n",
      "At random state 3,the testing accuracy is:- 0.38690396326325316\n",
      "\n",
      "\n",
      "At random state 4,the training accuracy is:- 0.36362946599677426\n",
      "At random state 4,the testing accuracy is:- 0.33695002513698535\n",
      "\n",
      "\n",
      "At random state 5,the training accuracy is:- 0.35360876598214463\n",
      "At random state 5,the testing accuracy is:- 0.37874687431635234\n",
      "\n",
      "\n",
      "At random state 6,the training accuracy is:- 0.35173920943199855\n",
      "At random state 6,the testing accuracy is:- 0.389474219010847\n",
      "\n",
      "\n",
      "At random state 7,the training accuracy is:- 0.35997491908932266\n",
      "At random state 7,the testing accuracy is:- 0.3468858137200871\n",
      "\n",
      "\n",
      "At random state 8,the training accuracy is:- 0.35789191481154814\n",
      "At random state 8,the testing accuracy is:- 0.35885487292107887\n",
      "\n",
      "\n",
      "At random state 9,the training accuracy is:- 0.36727428588960387\n",
      "At random state 9,the testing accuracy is:- 0.31442051423899053\n",
      "\n",
      "\n",
      "At random state 10,the training accuracy is:- 0.3532768594321877\n",
      "At random state 10,the testing accuracy is:- 0.3707576574165474\n",
      "\n",
      "\n",
      "At random state 11,the training accuracy is:- 0.36142429747216853\n",
      "At random state 11,the testing accuracy is:- 0.33858793476496307\n",
      "\n",
      "\n",
      "At random state 12,the training accuracy is:- 0.3668160062722696\n",
      "At random state 12,the testing accuracy is:- 0.3193695830806881\n",
      "\n",
      "\n",
      "At random state 13,the training accuracy is:- 0.36115280147112483\n",
      "At random state 13,the testing accuracy is:- 0.35395945169177134\n",
      "\n",
      "\n",
      "At random state 14,the training accuracy is:- 0.36632487563066574\n",
      "At random state 14,the testing accuracy is:- 0.3243508918082765\n",
      "\n",
      "\n",
      "At random state 15,the training accuracy is:- 0.3689700137486426\n",
      "At random state 15,the testing accuracy is:- 0.32082782224591155\n",
      "\n",
      "\n",
      "At random state 16,the training accuracy is:- 0.3749697770723567\n",
      "At random state 16,the testing accuracy is:- 0.272480950022604\n",
      "\n",
      "\n",
      "At random state 17,the training accuracy is:- 0.3444063328573568\n",
      "At random state 17,the testing accuracy is:- 0.4133140188386597\n",
      "\n",
      "\n",
      "At random state 18,the training accuracy is:- 0.35776306523498635\n",
      "At random state 18,the testing accuracy is:- 0.36474967857692375\n",
      "\n",
      "\n",
      "At random state 19,the training accuracy is:- 0.3510677287438281\n",
      "At random state 19,the testing accuracy is:- 0.3850246217957849\n",
      "\n",
      "\n",
      "At random state 20,the training accuracy is:- 0.3653903983114474\n",
      "At random state 20,the testing accuracy is:- 0.3308409279307697\n",
      "\n",
      "\n",
      "At random state 21,the training accuracy is:- 0.3561183161475395\n",
      "At random state 21,the testing accuracy is:- 0.36845549003779443\n",
      "\n",
      "\n",
      "At random state 22,the training accuracy is:- 0.3632589904846081\n",
      "At random state 22,the testing accuracy is:- 0.33049116554400493\n",
      "\n",
      "\n",
      "At random state 23,the training accuracy is:- 0.34400602739698694\n",
      "At random state 23,the testing accuracy is:- 0.4299787994731349\n",
      "\n",
      "\n",
      "At random state 24,the training accuracy is:- 0.3846703816734892\n",
      "At random state 24,the testing accuracy is:- 0.25448974877350805\n",
      "\n",
      "\n",
      "At random state 25,the training accuracy is:- 0.3690007155051285\n",
      "At random state 25,the testing accuracy is:- 0.31545168259623324\n",
      "\n",
      "\n",
      "At random state 26,the training accuracy is:- 0.3666343797141167\n",
      "At random state 26,the testing accuracy is:- 0.31353827469174544\n",
      "\n",
      "\n",
      "At random state 27,the training accuracy is:- 0.3433281278630893\n",
      "At random state 27,the testing accuracy is:- 0.4254015371788501\n",
      "\n",
      "\n",
      "At random state 28,the training accuracy is:- 0.35120933281344136\n",
      "At random state 28,the testing accuracy is:- 0.3827995635812007\n",
      "\n",
      "\n",
      "At random state 29,the training accuracy is:- 0.34998099290408113\n",
      "At random state 29,the testing accuracy is:- 0.3873012599850122\n",
      "\n",
      "\n",
      "At random state 30,the training accuracy is:- 0.3532840109858999\n",
      "At random state 30,the testing accuracy is:- 0.3801982546995063\n",
      "\n",
      "\n",
      "At random state 31,the training accuracy is:- 0.36884135542739793\n",
      "At random state 31,the testing accuracy is:- 0.3172377940089779\n",
      "\n",
      "\n",
      "At random state 32,the training accuracy is:- 0.37152428347430944\n",
      "At random state 32,the testing accuracy is:- 0.2913699761117384\n",
      "\n",
      "\n",
      "At random state 33,the training accuracy is:- 0.35868847625822775\n",
      "At random state 33,the testing accuracy is:- 0.3613156788063786\n",
      "\n",
      "\n",
      "At random state 34,the training accuracy is:- 0.35524487468123245\n",
      "At random state 34,the testing accuracy is:- 0.374174666759466\n",
      "\n",
      "\n",
      "At random state 35,the training accuracy is:- 0.36577743687761366\n",
      "At random state 35,the testing accuracy is:- 0.32755551760517554\n",
      "\n",
      "\n",
      "At random state 36,the training accuracy is:- 0.3609566215946579\n",
      "At random state 36,the testing accuracy is:- 0.34336917740198436\n",
      "\n",
      "\n",
      "At random state 37,the training accuracy is:- 0.3573859421715877\n",
      "At random state 37,the testing accuracy is:- 0.36352282720111406\n",
      "\n",
      "\n",
      "At random state 38,the training accuracy is:- 0.35728735328246974\n",
      "At random state 38,the testing accuracy is:- 0.3529411515773525\n",
      "\n",
      "\n",
      "At random state 39,the training accuracy is:- 0.34860803228354376\n",
      "At random state 39,the testing accuracy is:- 0.3924705803720221\n",
      "\n",
      "\n",
      "At random state 40,the training accuracy is:- 0.34351381439422646\n",
      "At random state 40,the testing accuracy is:- 0.4183385391256891\n",
      "\n",
      "\n",
      "At random state 41,the training accuracy is:- 0.3653350475531285\n",
      "At random state 41,the testing accuracy is:- 0.33436666740011933\n",
      "\n",
      "\n",
      "At random state 42,the training accuracy is:- 0.3479926193529863\n",
      "At random state 42,the testing accuracy is:- 0.40318034127962277\n",
      "\n",
      "\n",
      "At random state 43,the training accuracy is:- 0.35151619392994693\n",
      "At random state 43,the testing accuracy is:- 0.39005246019880035\n",
      "\n",
      "\n",
      "At random state 44,the training accuracy is:- 0.37025785726291227\n",
      "At random state 44,the testing accuracy is:- 0.31582937511976295\n",
      "\n",
      "\n",
      "At random state 45,the training accuracy is:- 0.3629610960698261\n",
      "At random state 45,the testing accuracy is:- 0.3354839153613194\n",
      "\n",
      "\n",
      "At random state 46,the training accuracy is:- 0.3713162022049449\n",
      "At random state 46,the testing accuracy is:- 0.31786580953125765\n",
      "\n",
      "\n",
      "At random state 47,the training accuracy is:- 0.36413266141622747\n",
      "At random state 47,the testing accuracy is:- 0.3354925135221316\n",
      "\n",
      "\n",
      "At random state 48,the training accuracy is:- 0.3720270821776219\n",
      "At random state 48,the testing accuracy is:- 0.2984552057468215\n",
      "\n",
      "\n",
      "At random state 49,the training accuracy is:- 0.35370054748930757\n",
      "At random state 49,the testing accuracy is:- 0.3829318811950201\n",
      "\n",
      "\n",
      "At random state 50,the training accuracy is:- 0.36652697046943095\n",
      "At random state 50,the testing accuracy is:- 0.3056042481825386\n",
      "\n",
      "\n",
      "At random state 51,the training accuracy is:- 0.37957287031329945\n",
      "At random state 51,the testing accuracy is:- 0.2757356716156788\n",
      "\n",
      "\n",
      "At random state 52,the training accuracy is:- 0.3604903320739695\n",
      "At random state 52,the testing accuracy is:- 0.3512844591151484\n",
      "\n",
      "\n",
      "At random state 53,the training accuracy is:- 0.351189419736311\n",
      "At random state 53,the testing accuracy is:- 0.3820298549799044\n",
      "\n",
      "\n",
      "At random state 54,the training accuracy is:- 0.36103858065341055\n",
      "At random state 54,the testing accuracy is:- 0.34141479326327784\n",
      "\n",
      "\n",
      "At random state 55,the training accuracy is:- 0.35825429914166484\n",
      "At random state 55,the testing accuracy is:- 0.36304500331596157\n",
      "\n",
      "\n",
      "At random state 56,the training accuracy is:- 0.3540007933097584\n",
      "At random state 56,the testing accuracy is:- 0.383869327420016\n",
      "\n",
      "\n",
      "At random state 57,the training accuracy is:- 0.3771453418988773\n",
      "At random state 57,the testing accuracy is:- 0.2931720025778366\n",
      "\n",
      "\n",
      "At random state 58,the training accuracy is:- 0.36219301198307763\n",
      "At random state 58,the testing accuracy is:- 0.34919806784601337\n",
      "\n",
      "\n",
      "At random state 59,the training accuracy is:- 0.3716922201791687\n",
      "At random state 59,the testing accuracy is:- 0.3025173549217286\n",
      "\n",
      "\n",
      "At random state 60,the training accuracy is:- 0.3529432772219677\n",
      "At random state 60,the testing accuracy is:- 0.3801116924746406\n",
      "\n",
      "\n",
      "At random state 61,the training accuracy is:- 0.34625646635467155\n",
      "At random state 61,the testing accuracy is:- 0.4069898395077366\n",
      "\n",
      "\n",
      "At random state 62,the training accuracy is:- 0.36416569171418545\n",
      "At random state 62,the testing accuracy is:- 0.33229650574369973\n",
      "\n",
      "\n",
      "At random state 63,the training accuracy is:- 0.35617735673316564\n",
      "At random state 63,the testing accuracy is:- 0.36902014792048865\n",
      "\n",
      "\n",
      "At random state 64,the training accuracy is:- 0.3695934369057794\n",
      "At random state 64,the testing accuracy is:- 0.3177936974679525\n",
      "\n",
      "\n",
      "At random state 65,the training accuracy is:- 0.35520470026811335\n",
      "At random state 65,the testing accuracy is:- 0.3763728222155972\n",
      "\n",
      "\n",
      "At random state 66,the training accuracy is:- 0.37643499407598846\n",
      "At random state 66,the testing accuracy is:- 0.2916574757885869\n",
      "\n",
      "\n",
      "At random state 67,the training accuracy is:- 0.3662648317162387\n",
      "At random state 67,the testing accuracy is:- 0.3211341381350452\n",
      "\n",
      "\n",
      "At random state 68,the training accuracy is:- 0.37211988910054183\n",
      "At random state 68,the testing accuracy is:- 0.30102148355225444\n",
      "\n",
      "\n",
      "At random state 69,the training accuracy is:- 0.3642740458309631\n",
      "At random state 69,the testing accuracy is:- 0.34173472882639555\n",
      "\n",
      "\n",
      "At random state 70,the training accuracy is:- 0.360281005352623\n",
      "At random state 70,the testing accuracy is:- 0.349849953285407\n",
      "\n",
      "\n",
      "At random state 71,the training accuracy is:- 0.3544383311089545\n",
      "At random state 71,the testing accuracy is:- 0.3806694084902461\n",
      "\n",
      "\n",
      "At random state 72,the training accuracy is:- 0.3600656710016664\n",
      "At random state 72,the testing accuracy is:- 0.35945871846983846\n",
      "\n",
      "\n",
      "At random state 73,the training accuracy is:- 0.36588636079220915\n",
      "At random state 73,the testing accuracy is:- 0.3277524147145007\n",
      "\n",
      "\n",
      "At random state 74,the training accuracy is:- 0.3561013105362384\n",
      "At random state 74,the testing accuracy is:- 0.37195208345650366\n",
      "\n",
      "\n",
      "At random state 75,the training accuracy is:- 0.37783615734253684\n",
      "At random state 75,the testing accuracy is:- 0.2596786463727283\n",
      "\n",
      "\n",
      "At random state 76,the training accuracy is:- 0.36888236669033536\n",
      "At random state 76,the testing accuracy is:- 0.3221720091261583\n",
      "\n",
      "\n",
      "At random state 77,the training accuracy is:- 0.3611509097664818\n",
      "At random state 77,the testing accuracy is:- 0.3541885721581002\n",
      "\n",
      "\n",
      "At random state 78,the training accuracy is:- 0.35166768973908735\n",
      "At random state 78,the testing accuracy is:- 0.3844227553226761\n",
      "\n",
      "\n",
      "At random state 79,the training accuracy is:- 0.3570592315621379\n",
      "At random state 79,the testing accuracy is:- 0.35878206803716584\n",
      "\n",
      "\n",
      "At random state 80,the training accuracy is:- 0.3639118281132959\n",
      "At random state 80,the testing accuracy is:- 0.3333847344660138\n",
      "\n",
      "\n",
      "At random state 81,the training accuracy is:- 0.3613534859932046\n",
      "At random state 81,the testing accuracy is:- 0.3502499321125946\n",
      "\n",
      "\n",
      "At random state 82,the training accuracy is:- 0.35666415630935155\n",
      "At random state 82,the testing accuracy is:- 0.36490540366616353\n",
      "\n",
      "\n",
      "At random state 83,the training accuracy is:- 0.34913067520047625\n",
      "At random state 83,the testing accuracy is:- 0.4005571776632927\n",
      "\n",
      "\n",
      "At random state 84,the training accuracy is:- 0.3620414433812461\n",
      "At random state 84,the testing accuracy is:- 0.33516526323537643\n",
      "\n",
      "\n",
      "At random state 85,the training accuracy is:- 0.3676716739512189\n",
      "At random state 85,the testing accuracy is:- 0.3104199343334637\n",
      "\n",
      "\n",
      "At random state 86,the training accuracy is:- 0.35625686325782024\n",
      "At random state 86,the testing accuracy is:- 0.37346059294608747\n",
      "\n",
      "\n",
      "At random state 87,the training accuracy is:- 0.39157816931526324\n",
      "At random state 87,the testing accuracy is:- 0.17669483642711925\n",
      "\n",
      "\n",
      "At random state 88,the training accuracy is:- 0.37276193600687824\n",
      "At random state 88,the testing accuracy is:- 0.30038450919415227\n",
      "\n",
      "\n",
      "At random state 89,the training accuracy is:- 0.35370210458416373\n",
      "At random state 89,the testing accuracy is:- 0.3692293486095166\n",
      "\n",
      "\n",
      "At random state 90,the training accuracy is:- 0.37110848565441357\n",
      "At random state 90,the testing accuracy is:- 0.30311509240179313\n",
      "\n",
      "\n",
      "At random state 91,the training accuracy is:- 0.34530014020819777\n",
      "At random state 91,the testing accuracy is:- 0.4064649631344798\n",
      "\n",
      "\n",
      "At random state 92,the training accuracy is:- 0.34333291994352844\n",
      "At random state 92,the testing accuracy is:- 0.4310709205807016\n",
      "\n",
      "\n",
      "At random state 93,the training accuracy is:- 0.35159957976860723\n",
      "At random state 93,the testing accuracy is:- 0.38840707854320544\n",
      "\n",
      "\n",
      "At random state 94,the training accuracy is:- 0.3848739710866186\n",
      "At random state 94,the testing accuracy is:- 0.23864232422146792\n",
      "\n",
      "\n",
      "At random state 95,the training accuracy is:- 0.36606762257848047\n",
      "At random state 95,the testing accuracy is:- 0.32771842190678835\n",
      "\n",
      "\n",
      "At random state 96,the training accuracy is:- 0.3676095933128163\n",
      "At random state 96,the testing accuracy is:- 0.3177838874584098\n",
      "\n",
      "\n"
     ]
    },
    {
     "name": "stdout",
     "output_type": "stream",
     "text": [
      "At random state 97,the training accuracy is:- 0.3740195705014857\n",
      "At random state 97,the testing accuracy is:- 0.2986738704058328\n",
      "\n",
      "\n",
      "At random state 98,the training accuracy is:- 0.3581109911243957\n",
      "At random state 98,the testing accuracy is:- 0.3607221915598965\n",
      "\n",
      "\n",
      "At random state 99,the training accuracy is:- 0.3657321664805213\n",
      "At random state 99,the testing accuracy is:- 0.3274135793301117\n",
      "\n",
      "\n"
     ]
    }
   ],
   "source": [
    "for i in range(0,100):\n",
    "    \n",
    "    features_train,features_test,target_train,target_test=train_test_split(features,target,test_size=0.2,random_state=i)\n",
    "    lr.fit(features_train,target_train)\n",
    "    \n",
    "    pred_train=lr.predict(features_train)\n",
    "    pred_test=lr.predict(features_test)\n",
    "    \n",
    "    \n",
    "    print(f\"At random state {i},the training accuracy is:- {r2_score(target_train,pred_train)}\")\n",
    "    print(f\"At random state {i},the testing accuracy is:- {r2_score(target_test,pred_test)}\")\n",
    "    print(\"\\n\")"
   ]
  },
  {
   "cell_type": "code",
   "execution_count": 52,
   "id": "a2a956dd",
   "metadata": {},
   "outputs": [
    {
     "data": {
      "text/plain": [
       "LinearRegression()"
      ]
     },
     "execution_count": 52,
     "metadata": {},
     "output_type": "execute_result"
    }
   ],
   "source": [
    "# train the model\n",
    "lr.fit(features_train,target_train)\n",
    "\n"
   ]
  },
  {
   "cell_type": "code",
   "execution_count": 53,
   "id": "9f86fe47",
   "metadata": {},
   "outputs": [
    {
     "name": "stdout",
     "output_type": "stream",
     "text": [
      "0.3274135793301117\n"
     ]
    }
   ],
   "source": [
    "pred_test=lr.predict(features_test)\n",
    "print(r2_score(target_test,pred_test))"
   ]
  },
  {
   "cell_type": "code",
   "execution_count": 54,
   "id": "0ffaba41",
   "metadata": {},
   "outputs": [
    {
     "name": "stdout",
     "output_type": "stream",
     "text": [
      "At cross fold 2 the cv score is 0.28482576602930587 and accuracy score for the training is 0.3657321664805213 and accuracy for the testing is 0.3274135793301117\n",
      "\n",
      "\n",
      "At cross fold 3 the cv score is 0.3115745778424808 and accuracy score for the training is 0.3657321664805213 and accuracy for the testing is 0.3274135793301117\n",
      "\n",
      "\n",
      "At cross fold 4 the cv score is 0.28719730030540674 and accuracy score for the training is 0.3657321664805213 and accuracy for the testing is 0.3274135793301117\n",
      "\n",
      "\n",
      "At cross fold 5 the cv score is 0.29004162884219703 and accuracy score for the training is 0.3657321664805213 and accuracy for the testing is 0.3274135793301117\n",
      "\n",
      "\n",
      "At cross fold 6 the cv score is 0.2345495739382998 and accuracy score for the training is 0.3657321664805213 and accuracy for the testing is 0.3274135793301117\n",
      "\n",
      "\n",
      "At cross fold 7 the cv score is 0.24947349742144814 and accuracy score for the training is 0.3657321664805213 and accuracy for the testing is 0.3274135793301117\n",
      "\n",
      "\n",
      "At cross fold 8 the cv score is 0.21815114893494963 and accuracy score for the training is 0.3657321664805213 and accuracy for the testing is 0.3274135793301117\n",
      "\n",
      "\n",
      "At cross fold 9 the cv score is 0.23763933720991792 and accuracy score for the training is 0.3657321664805213 and accuracy for the testing is 0.3274135793301117\n",
      "\n",
      "\n"
     ]
    }
   ],
   "source": [
    "# To cross-validate the model\n",
    "Train_accuracy=r2_score(target_train,pred_train)\n",
    "Test_accuracy=r2_score(target_test,pred_test)\n",
    "\n",
    "from sklearn.model_selection import cross_val_score\n",
    "for j in range(2,10):\n",
    "    cv_score=cross_val_score(lr,features,target,cv=j)\n",
    "    cv_mean=cv_score.mean()\n",
    "    print(f\"At cross fold {j} the cv score is {cv_mean} and accuracy score for the training is {Train_accuracy} and accuracy for the testing is {Test_accuracy}\")\n",
    "    print(\"\\n\")"
   ]
  },
  {
   "cell_type": "code",
   "execution_count": 57,
   "id": "66a1f117",
   "metadata": {},
   "outputs": [
    {
     "data": {
      "image/png": "[encoded data removed]",
      "text/plain": [
       "<Figure size 864x720 with 1 Axes>"
      ]
     },
     "metadata": {
      "needs_background": "light"
     },
     "output_type": "display_data"
    }
   ],
   "source": [
    "# considering the over fitting nad under fitting by checking the training and testing score\n",
    "\n",
    "\n",
    "plt.figure(figsize=(12,10))\n",
    "plt.scatter(x=target_test, y=pred_test, color='r')\n",
    "\n",
    "plt.plot(target_test,target_test, color='b')\n",
    "plt.title('Linear Regression',fontsize=20)\n",
    "\n",
    "plt.savefig('lr.png')\n",
    "\n",
    "plt.show()"
   ]
  },
  {
   "cell_type": "code",
   "execution_count": null,
   "id": "cbd8f471",
   "metadata": {},
   "outputs": [],
   "source": [
    " # Thus build a model and predicted a good Quality wine"
   ]
  }
 ],
 "metadata": {
  "kernelspec": {
   "display_name": "Python 3 (ipykernel)",
   "language": "python",
   "name": "python3"
  },
  "language_info": {
   "codemirror_mode": {
    "name": "ipython",
    "version": 3
   },
   "file_extension": ".py",
   "mimetype": "text/x-python",
   "name": "python",
   "nbconvert_exporter": "python",
   "pygments_lexer": "ipython3",
   "version": "3.9.7"
  }
 },
 "nbformat": 4,
 "nbformat_minor": 5
}
